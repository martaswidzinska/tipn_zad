{
 "cells": [
  {
   "cell_type": "code",
   "execution_count": 3,
   "metadata": {},
   "outputs": [],
   "source": [
    "a = \"Czy zgadzasz się, że iPhone 6 to najładniejszy telefon od Apple?\"\n",
    "b = \"Czy zgodzisz się ze stwierdzeniem, że iOS jest niezawodnym i mało usterkowym oprogramowaniem?\"\n",
    "c = \"Czy zgadzasz się ze stwierdzeniem, że czarny golf Steve'a Jobsa był jego znakiem rozpoznawczym?\"\n",
    "d = \"Czy zgadzasz się ze stwierdzeniem, że Macbooki są intuicyjne i bardzo wygodne w użyciu?\"\n",
    "e = \"Czy zgadzasz się ze stwierdzeniem, że ugryzione jabłuszko to w sumie fajne i inrygujące logo ?\"\n",
    "punkty = []"
   ]
  },
  {
   "cell_type": "code",
   "execution_count": 4,
   "metadata": {},
   "outputs": [],
   "source": [
    "def test(os):\n",
    "\n",
    "    lista_pytan = [a, b, c, d, e]\n",
    "    \n",
    "def zadaj_pytanie(a):\n",
    "        \n",
    "    print(a)\n",
    "    ax = input(\"1 oznacza: zupełnie się nie zgadzam; 5 oznacza: całkowicie się zgadzam:\")\n",
    "    ax = int(ax)\n",
    "    if ax>5 or ax<1:\n",
    "        print(\"Error! Wpisałeś niepoprawną liczbę!\")\n",
    "    else:\n",
    "        return ax"
   ]
  },
  {
   "cell_type": "code",
   "execution_count": 6,
   "metadata": {},
   "outputs": [
    {
     "name": "stdout",
     "output_type": "stream",
     "text": [
      "Czy zgadzasz się, że iPhone 6 to najładniejszy telefon od Apple?\n"
     ]
    },
    {
     "name": "stdin",
     "output_type": "stream",
     "text": [
      "1 oznacza: zupełnie się nie zgadzam; 5 oznacza: całkowicie się zgadzam: 3\n"
     ]
    },
    {
     "name": "stdout",
     "output_type": "stream",
     "text": [
      "Czy zgodzisz się ze stwierdzeniem, że iOS jest niezawodnym i mało usterkowym oprogramowaniem?\n"
     ]
    },
    {
     "name": "stdin",
     "output_type": "stream",
     "text": [
      "1 oznacza: zupełnie się nie zgadzam; 5 oznacza: całkowicie się zgadzam: 1\n"
     ]
    },
    {
     "name": "stdout",
     "output_type": "stream",
     "text": [
      "Czy zgadzasz się ze stwierdzeniem, że czarny golf Steve'a Jobsa był jego znakiem rozpoznawczym?\n"
     ]
    },
    {
     "name": "stdin",
     "output_type": "stream",
     "text": [
      "1 oznacza: zupełnie się nie zgadzam; 5 oznacza: całkowicie się zgadzam: 2\n"
     ]
    },
    {
     "name": "stdout",
     "output_type": "stream",
     "text": [
      "Czy zgadzasz się ze stwierdzeniem, że Macbooki są intuicyjne i bardzo wygodne w użyciu?\n"
     ]
    },
    {
     "name": "stdin",
     "output_type": "stream",
     "text": [
      "1 oznacza: zupełnie się nie zgadzam; 5 oznacza: całkowicie się zgadzam: 1\n"
     ]
    },
    {
     "name": "stdout",
     "output_type": "stream",
     "text": [
      "Czy zgadzasz się ze stwierdzeniem, że ugryzione jabłuszko to w sumie fajne i inrygujące logo ?\n"
     ]
    },
    {
     "name": "stdin",
     "output_type": "stream",
     "text": [
      "1 oznacza: zupełnie się nie zgadzam; 5 oznacza: całkowicie się zgadzam: 1\n"
     ]
    },
    {
     "name": "stdout",
     "output_type": "stream",
     "text": [
      "Twój wynik to 8 . Test stanowczo wskazuje, że Apple to nie urządzenia dla Ciebie. No cóż. Ale Nokia 3310?... tu sytuacja wygląda inaczaj!\n"
     ]
    }
   ],
   "source": [
    "pkt = zadaj_pytanie(a)\n",
    "punkty.append(pkt)\n",
    "pkt = zadaj_pytanie(b)\n",
    "punkty.append(pkt)\n",
    "pkt = zadaj_pytanie(c)\n",
    "punkty.append(pkt)\n",
    "pkt = zadaj_pytanie(d)\n",
    "punkty.append(pkt)\n",
    "pkt = zadaj_pytanie(e)\n",
    "punkty.append(pkt)\n",
    "wynik = sum(punkty)\n",
    "wynik = int(wynik)\n",
    "if wynik > 5 and wynik < 10:\n",
    "    print(\"Twój wynik to\", wynik, \".\", \"Test stanowczo wskazuje, że Apple to nie urządzenia dla Ciebie. No cóż. Ale Nokia 3310?... tu sytuacja wygląda inaczaj!\")\n",
    "elif wynik == 5:\n",
    "    print(\"Twój wynik to\", wynik, \".\", \"Jesteś zorientowany czym w ogóle jest to całe Apple, no ale czy coś poza tym...Fanem na pewno nie jesteś!\")\n",
    "elif wynik >= 10 and wynik < 15:\n",
    "    print(\"Twój wynik to\", wynik, \".\", \"Nie jest tak źle! Widać, że produkty z ugryzionym jabłuszkiem mogą Ci się spodobać!\")\n",
    "elif wynik >= 15 and wynik < 20:\n",
    "    print(\"Twój wynik to\", wynik, \".\", \"Wow, jesteś na dobrej drodze do zostania fanem produktów od Steve'a!\")\n",
    "elif wynik >=20 and wynik < 25:\n",
    "    print(\"Twój wynik to\", wynik, \".\", \"Jesteśmy blisko! Ten niezwykle mądry test wskazuje, że jeszcze odrobinka, a staniesz się jednym z tych ludzi, dla których jabłko przestało być TYLKO owocem!\")\n",
    "elif wynik == 25:\n",
    "    print(\"Twój wynik to\", wynik, \".\", \"Wychodzi na to, że jesteś wieeeeeeeeeeelkim fanem Apple! Psst, to kiedy wychodzi ten nowy iPhone?\")\n",
    "    \n",
    "if wynik > 0:\n",
    "    punkty.pop(0)\n",
    "    punkty.pop(0)\n",
    "    punkty.pop(0)\n",
    "    punkty.pop(0)\n",
    "    punkty.pop(0)\n",
    "else:\n",
    "    print(\"Dziękuję za wzięcie udziału w teście!\")"
   ]
  },
  {
   "cell_type": "code",
   "execution_count": null,
   "metadata": {},
   "outputs": [],
   "source": []
  }
 ],
 "metadata": {
  "kernelspec": {
   "display_name": "Python 3",
   "language": "python",
   "name": "python3"
  },
  "language_info": {
   "codemirror_mode": {
    "name": "ipython",
    "version": 3
   },
   "file_extension": ".py",
   "mimetype": "text/x-python",
   "name": "python",
   "nbconvert_exporter": "python",
   "pygments_lexer": "ipython3",
   "version": "3.7.0"
  }
 },
 "nbformat": 4,
 "nbformat_minor": 2
}
