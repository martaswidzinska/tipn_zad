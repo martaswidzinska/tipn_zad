{
 "cells": [
  {
   "cell_type": "markdown",
   "metadata": {},
   "source": [
    "## Średnia moich wszystkich ocen"
   ]
  },
  {
   "cell_type": "markdown",
   "metadata": {},
   "source": [
    "Ten program liczy średnią moich wszystkich ocen zdobytych w semestrze zimowym."
   ]
  },
  {
   "cell_type": "code",
   "execution_count": 8,
   "metadata": {},
   "outputs": [],
   "source": [
    "metodologia = 5.0\n",
    "statystyka = 3.0\n",
    "informatyka = 4.0\n",
    "wf = 5.0\n",
    "angielski = 5.0\n",
    "ogolna = 5.0\n",
    "anatomia = 3.0\n",
    "mechanizmy = 3.0\n",
    "przeglad = 5.0\n",
    "trening = 5.0\n",
    "komunikacja = 5.0"
   ]
  },
  {
   "cell_type": "code",
   "execution_count": 9,
   "metadata": {},
   "outputs": [],
   "source": [
    "suma = metodologia + statystyka + informatyka + wf + angielski + ogolna + anatomia + mechanizmy + przeglad + trening + komunikacja\n",
    "srednia = suma/11"
   ]
  },
  {
   "cell_type": "code",
   "execution_count": 10,
   "metadata": {},
   "outputs": [
    {
     "data": {
      "text/plain": [
       "' Moja średnia w pierwszym semestrze studiów to 4.363636363636363'"
      ]
     },
     "execution_count": 10,
     "metadata": {},
     "output_type": "execute_result"
    }
   ],
   "source": [
    "\" Moja średnia w pierwszym semestrze studiów to \" + str(srednia)"
   ]
  },
  {
   "cell_type": "code",
   "execution_count": null,
   "metadata": {},
   "outputs": [],
   "source": []
  }
 ],
 "metadata": {
  "kernelspec": {
   "display_name": "Python 3",
   "language": "python",
   "name": "python3"
  },
  "language_info": {
   "codemirror_mode": {
    "name": "ipython",
    "version": 3
   },
   "file_extension": ".py",
   "mimetype": "text/x-python",
   "name": "python",
   "nbconvert_exporter": "python",
   "pygments_lexer": "ipython3",
   "version": "3.7.0"
  }
 },
 "nbformat": 4,
 "nbformat_minor": 2
}
